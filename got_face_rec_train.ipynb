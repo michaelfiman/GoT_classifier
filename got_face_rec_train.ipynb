{
 "cells": [
  {
   "cell_type": "code",
   "execution_count": 1,
   "metadata": {},
   "outputs": [
    {
     "name": "stderr",
     "output_type": "stream",
     "text": [
      "/home/shared/anaconda3/lib/python3.6/site-packages/h5py/__init__.py:36: FutureWarning: Conversion of the second argument of issubdtype from `float` to `np.floating` is deprecated. In future, it will be treated as `np.float64 == np.dtype(float).type`.\n",
      "  from ._conv import register_converters as _register_converters\n"
     ]
    }
   ],
   "source": [
    "# General imports and settings\n",
    "\n",
    "import matplotlib.pyplot as plt\n",
    "import tensorflow as tf\n",
    "import numpy as np\n",
    "import PIL\n",
    "import utils\n",
    "from utils import get_json_data, load_images, load_specific_image\n",
    "from IPython.display import Image\n",
    "\n",
    "%matplotlib inline\n",
    "plt.rcParams['figure.figsize'] = (10.0, 8.0) # set default size of plots\n",
    "plt.rcParams['image.interpolation'] = 'nearest'\n",
    "plt.rcParams['image.cmap'] = 'gray'\n",
    "\n",
    "%load_ext autoreload\n",
    "%autoreload 2"
   ]
  },
  {
   "cell_type": "code",
   "execution_count": 2,
   "metadata": {},
   "outputs": [],
   "source": [
    "data = get_json_data('GoT_Face_Labelling_Ep7.json')"
   ]
  },
  {
   "cell_type": "code",
   "execution_count": 3,
   "metadata": {},
   "outputs": [
    {
     "data": {
      "image/jpeg": "[encoded data removed]",
      "text/plain": [
       "<IPython.core.display.Image object>"
      ]
     },
     "metadata": {},
     "output_type": "display_data"
    },
    {
     "name": "stdout",
     "output_type": "stream",
     "text": [
      "Jorah Mormont\n"
     ]
    },
    {
     "data": {
      "image/jpeg": "[encoded data removed]",
      "text/plain": [
       "<IPython.core.display.Image object>"
      ]
     },
     "metadata": {},
     "output_type": "display_data"
    },
    {
     "name": "stdout",
     "output_type": "stream",
     "text": [
      "Cersei Lannister\n"
     ]
    },
    {
     "data": {
      "image/jpeg": "[encoded data removed]",
      "text/plain": [
       "<IPython.core.display.Image object>"
      ]
     },
     "metadata": {},
     "output_type": "display_data"
    },
    {
     "name": "stdout",
     "output_type": "stream",
     "text": [
      "Cersei Lannister\n"
     ]
    },
    {
     "data": {
      "image/jpeg": "[encoded data removed]",
      "text/plain": [
       "<IPython.core.display.Image object>"
      ]
     },
     "metadata": {},
     "output_type": "display_data"
    },
    {
     "name": "stdout",
     "output_type": "stream",
     "text": [
      "Qyburn\n"
     ]
    },
    {
     "data": {
      "image/jpeg": "[encoded data removed]",
      "text/plain": [
       "<IPython.core.display.Image object>"
      ]
     },
     "metadata": {},
     "output_type": "display_data"
    },
    {
     "name": "stdout",
     "output_type": "stream",
     "text": [
      "Unknown Person\n"
     ]
    }
   ],
   "source": [
    "# Examples of the faces given in the dataset\n",
    "for i in range(5):\n",
    "    rand_entry = np.random.randint(1, 1300)\n",
    "    X = load_specific_image(data, rand_entry)\n",
    "    display(Image(filename='data/data_%s.jpg' % (rand_entry)))\n",
    "    print(data[rand_entry]['annotation']['label'][0])\n"
   ]
  },
  {
   "cell_type": "code",
   "execution_count": 4,
   "metadata": {},
   "outputs": [],
   "source": [
    "# Create the data dict with the training examples and labels. \n",
    "# Set num_of_training (No. of examples) be a nuber between 1 to 1300 and num_of_validation between 1 to num_of_training \n",
    "num_of_training = 1200\n",
    "num_of_validation = 100\n",
    "data_dict = utils.load_images_and_get_data(data, num_of_training, num_of_validation, flip=True)"
   ]
  },
  {
   "cell_type": "code",
   "execution_count": 5,
   "metadata": {},
   "outputs": [],
   "source": [
    "tf.logging.set_verbosity(tf.logging.INFO)\n",
    "tf.reset_default_graph()"
   ]
  },
  {
   "cell_type": "code",
   "execution_count": 6,
   "metadata": {},
   "outputs": [],
   "source": [
    "def cnn_model_fn(features, labels, mode):\n",
    "    \"\"\"CNN model function\"\"\"\n",
    "    \n",
    "    input_layer = tf.reshape(features[\"x\"], [-1, 96, 96, 3])\n",
    "    conv1 = tf.layers.conv2d(inputs=input_layer,\n",
    "                            filters=32,\n",
    "                            kernel_size=5,\n",
    "                            padding=\"same\",\n",
    "                            activation=tf.nn.relu)\n",
    "    pool1 = tf.layers.max_pooling2d(inputs=conv1, pool_size=2, strides =2)\n",
    "    conv2 = tf.layers.conv2d(inputs=pool1,\n",
    "                            filters=32,\n",
    "                            kernel_size=3,\n",
    "                            padding=\"same\",\n",
    "                            activation=tf.nn.relu)\n",
    "    pool2 = tf.layers.max_pooling2d(inputs=conv1, pool_size=2, strides =2)\n",
    "    conv3 = tf.layers.conv2d(inputs=pool2,\n",
    "                            filters=32,\n",
    "                            kernel_size=3,\n",
    "                            padding=\"same\",\n",
    "                            activation=tf.nn.relu)\n",
    "    pool3 = tf.layers.max_pooling2d(inputs=conv3, pool_size=2, strides =2)\n",
    "    pool3_flat = tf.reshape(pool3, [-1, 24 * 24 * 32])\n",
    "    dense = tf.layers.dense(inputs=pool3_flat, units=18432, activation=tf.nn.relu)\n",
    "    #dropout = tf.layers.dropout(inputs=dense, rate=0.2, training=mode == tf.estimator.ModeKeys.TRAIN)\n",
    "    \n",
    "    logits = tf.layers.dense(inputs=dense, units=69)\n",
    "    classes = tf.as_string(tf.argmax(input=logits, axis=1, name=\"class\"))\n",
    "    predictions = {\n",
    "        \"classes\" : tf.argmax(input=logits, axis=1),\n",
    "        \"probabilities\" : tf.nn.softmax(logits, name=\"softmax_tensor\")\n",
    "        }\n",
    "        \n",
    "    if mode == tf.estimator.ModeKeys.PREDICT:\n",
    "        export_outputs = {\"classes\" : tf.estimator.export.ClassificationOutput(classes=classes)}\n",
    "        return tf.estimator.EstimatorSpec(mode=mode, predictions=predictions, export_outputs=export_outputs)\n",
    "    \n",
    "    onehot_labels = tf.one_hot(indices=tf.cast(labels, tf.int32), depth = 69)\n",
    "    loss = tf.losses.softmax_cross_entropy(onehot_labels=onehot_labels, logits=logits)\n",
    "    \n",
    "    if mode == tf.estimator.ModeKeys.TRAIN:\n",
    "        metrics = {\n",
    "            \"accuracy\" : tf.metrics.accuracy(labels=labels, predictions=predictions[\"classes\"])\n",
    "        }\n",
    "        tf.summary.scalar(\"accuracy\", metrics[\"accuracy\"][1])\n",
    "        merge_summary_op = tf.summary.merge_all\n",
    "        optimizer = tf.train.AdamOptimizer(learning_rate=0.0001)\n",
    "        train_op = optimizer.minimize(loss=loss, global_step=tf.train.get_global_step())\n",
    "        return tf.estimator.EstimatorSpec(mode=mode, loss=loss, train_op=train_op)\n",
    "    eval_metrics_op = {\"accuracy\" : tf.metrics.accuracy(labels=labels, predictions=predictions[\"classes\"])}\n",
    "    \n",
    "    return tf.estimator.EstimatorSpec(mode=mode, loss=loss, eval_metric_ops=eval_metrics_op)"
   ]
  },
  {
   "cell_type": "code",
   "execution_count": 7,
   "metadata": {},
   "outputs": [
    {
     "name": "stdout",
     "output_type": "stream",
     "text": [
      "INFO:tensorflow:Using default config.\n",
      "INFO:tensorflow:Using config: {'_model_dir': 'train/train_0/', '_tf_random_seed': None, '_save_summary_steps': 100, '_save_checkpoints_steps': None, '_save_checkpoints_secs': 600, '_session_config': None, '_keep_checkpoint_max': 5, '_keep_checkpoint_every_n_hours': 10000, '_log_step_count_steps': 100, '_service': None, '_cluster_spec': <tensorflow.python.training.server_lib.ClusterSpec object at 0x7f60f27e3278>, '_task_type': 'worker', '_task_id': 0, '_global_id_in_cluster': 0, '_master': '', '_evaluation_master': '', '_is_chief': True, '_num_ps_replicas': 0, '_num_worker_replicas': 1}\n"
     ]
    }
   ],
   "source": [
    "got_classifier = tf.estimator.Estimator(model_fn=cnn_model_fn, model_dir=\"train/train_0/\")\n",
    "tensors_to_log = {\"probabilities\" : \"softmax_tensor\"}\n",
    "logging_hook = tf.train.LoggingTensorHook(tensors=tensors_to_log, every_n_iter=300)"
   ]
  },
  {
   "cell_type": "code",
   "execution_count": 8,
   "metadata": {},
   "outputs": [
    {
     "name": "stdout",
     "output_type": "stream",
     "text": [
      "INFO:tensorflow:Calling model_fn.\n",
      "INFO:tensorflow:Done calling model_fn.\n",
      "INFO:tensorflow:Create CheckpointSaverHook.\n",
      "INFO:tensorflow:Graph was finalized.\n",
      "INFO:tensorflow:Restoring parameters from train/train_0/model.ckpt-2601\n",
      "INFO:tensorflow:Running local_init_op.\n",
      "INFO:tensorflow:Done running local_init_op.\n",
      "INFO:tensorflow:Saving checkpoints for 2602 into train/train_0/model.ckpt.\n",
      "INFO:tensorflow:probabilities = [[0.         0.         0.         ... 0.         0.         0.        ]\n",
      " [0.         0.         0.         ... 0.         0.00000283 0.00000268]\n",
      " [0.         0.         0.         ... 0.         0.00000019 0.        ]\n",
      " ...\n",
      " [0.         0.         0.         ... 0.         0.00000032 0.        ]\n",
      " [0.         0.         0.         ... 0.         0.00000078 0.        ]\n",
      " [0.         0.         0.         ... 0.         0.00001896 0.00000496]]\n",
      "INFO:tensorflow:loss = 3.0303554e-05, step = 2602\n",
      "INFO:tensorflow:Saving checkpoints for 2611 into train/train_0/model.ckpt.\n",
      "INFO:tensorflow:Loss for final step: 1.0737915e-05.\n"
     ]
    },
    {
     "data": {
      "text/plain": [
       "<tensorflow.python.estimator.estimator.Estimator at 0x7f60f27e3198>"
      ]
     },
     "execution_count": 8,
     "metadata": {},
     "output_type": "execute_result"
    }
   ],
   "source": [
    "training_input_fn = tf.estimator.inputs.numpy_input_fn(x={\"x\" : data_dict['X_train']},\n",
    "                                                       y=data_dict['y_train'],\n",
    "                                                       batch_size=50,\n",
    "                                                       num_epochs=None,\n",
    "                                                       shuffle=True)\n",
    "got_classifier.train(input_fn=training_input_fn, steps=10, hooks=[logging_hook])"
   ]
  },
  {
   "cell_type": "code",
   "execution_count": 9,
   "metadata": {},
   "outputs": [
    {
     "name": "stdout",
     "output_type": "stream",
     "text": [
      "INFO:tensorflow:Calling model_fn.\n",
      "INFO:tensorflow:Done calling model_fn.\n",
      "INFO:tensorflow:Starting evaluation at 2018-08-28-07:20:27\n",
      "INFO:tensorflow:Graph was finalized.\n",
      "INFO:tensorflow:Restoring parameters from train/train_0/model.ckpt-2611\n",
      "INFO:tensorflow:Running local_init_op.\n",
      "INFO:tensorflow:Done running local_init_op.\n",
      "INFO:tensorflow:Finished evaluation at 2018-08-28-07:20:30\n",
      "INFO:tensorflow:Saving dict for global step 2611: accuracy = 0.77, global_step = 2611, loss = 1.3146713\n",
      "{'accuracy': 0.77, 'loss': 1.3146713, 'global_step': 2611}\n"
     ]
    }
   ],
   "source": [
    "eval_input_fn = tf.estimator.inputs.numpy_input_fn(x={\"x\" : data_dict['X_eval']},\n",
    "                                                   y=data_dict['y_eval'],\n",
    "                                                   num_epochs=1,\n",
    "                                                   shuffle=False)\n",
    "eval_results = got_classifier.evaluate(input_fn=eval_input_fn)\n",
    "print(eval_results)"
   ]
  },
  {
   "cell_type": "code",
   "execution_count": 10,
   "metadata": {},
   "outputs": [
    {
     "data": {
      "image/jpeg": "[encoded data removed]",
      "text/plain": [
       "<IPython.core.display.Image object>"
      ]
     },
     "metadata": {},
     "output_type": "display_data"
    },
    {
     "name": "stdout",
     "output_type": "stream",
     "text": [
      "This is Unknown Person\n",
      "0.71933913\n"
     ]
    },
    {
     "data": {
      "image/jpeg": "[encoded data removed]",
      "text/plain": [
       "<IPython.core.display.Image object>"
      ]
     },
     "metadata": {},
     "output_type": "display_data"
    },
    {
     "name": "stdout",
     "output_type": "stream",
     "text": [
      "This is Tyrion Lannister\n",
      "1.0\n"
     ]
    },
    {
     "data": {
      "image/jpeg": "[encoded data removed]",
      "text/plain": [
       "<IPython.core.display.Image object>"
      ]
     },
     "metadata": {},
     "output_type": "display_data"
    },
    {
     "name": "stdout",
     "output_type": "stream",
     "text": [
      "This is Daenerys Targaryen\n",
      "1.0\n"
     ]
    },
    {
     "data": {
      "image/jpeg": "[encoded data removed]",
      "text/plain": [
       "<IPython.core.display.Image object>"
      ]
     },
     "metadata": {},
     "output_type": "display_data"
    },
    {
     "name": "stdout",
     "output_type": "stream",
     "text": [
      "This is Tyrion Lannister\n",
      "1.0\n"
     ]
    },
    {
     "data": {
      "image/jpeg": "[encoded data removed]",
      "text/plain": [
       "<IPython.core.display.Image object>"
      ]
     },
     "metadata": {},
     "output_type": "display_data"
    },
    {
     "name": "stdout",
     "output_type": "stream",
     "text": [
      "This is Unknown Person\n",
      "0.99988353\n"
     ]
    }
   ],
   "source": [
    "# Examples of predictions on data which was not used for training or evaluation\n",
    "from utils import load_specific_image, num_to_name\n",
    "tf.logging.set_verbosity(tf.logging.ERROR)\n",
    "for i in range(5):\n",
    "    rand_entry = np.random.randint(num_of_training, 1300)\n",
    "    X = load_specific_image(data, rand_entry)\n",
    "    display(Image(filename='data/data_%s.jpg' % (rand_entry)))\n",
    "\n",
    "    predict_input_fn = tf.estimator.inputs.numpy_input_fn(x={\"x\" : X}, num_epochs=1, shuffle = False)\n",
    "    predictions = list(got_classifier.predict(input_fn=predict_input_fn))\n",
    "    print(\"This is {}\".format(num_to_name(predictions[0][\"classes\"])))\n",
    "    print(predictions[0][\"probabilities\"][predictions[0][\"classes\"]])"
   ]
  },
  {
   "cell_type": "code",
   "execution_count": 17,
   "metadata": {},
   "outputs": [],
   "source": [
    "# Export model\n",
    "def serving_input_receiver_fn():\n",
    "    \"\"\"An input receiver that expects a serialized tf.Example.\"\"\"\n",
    "    serialized_tf_example = tf.placeholder(dtype=tf.string, shape=[None], name='input_tensors')\n",
    "    receiver_tensors = {\"predictor_inputs\" : serialized_tf_example}\n",
    "    feature_spec = {\"x\" : tf.FixedLenFeature([96, 96 ,3], tf.float32)}\n",
    "    features = tf.parse_example(serialized_tf_example, feature_spec)\n",
    "    return tf.estimator.export.ServingInputReceiver(features, receiver_tensors)\n",
    "\n",
    "exported_model = got_classifier.export_savedmodel(\"trained/trained_0\", serving_input_receiver_fn=serving_input_receiver_fn)"
   ]
  }
 ],
 "metadata": {
  "kernelspec": {
   "display_name": "Python 3",
   "language": "python",
   "name": "python3"
  },
  "language_info": {
   "codemirror_mode": {
    "name": "ipython",
    "version": 3
   },
   "file_extension": ".py",
   "mimetype": "text/x-python",
   "name": "python",
   "nbconvert_exporter": "python",
   "pygments_lexer": "ipython3",
   "version": "3.6.4"
  }
 },
 "nbformat": 4,
 "nbformat_minor": 2
}
